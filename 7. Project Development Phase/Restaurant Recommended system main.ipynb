{
  "cells": [
    {
      "cell_type": "code",
      "execution_count": null,
      "metadata": {
        "id": "S-0FFwRXE9fV"
      },
      "outputs": [],
      "source": [
        "!pip install -q kaggle"
      ]
    },
    {
      "cell_type": "code",
      "execution_count": null,
      "metadata": {
        "colab": {
          "base_uri": "https://localhost:8080/"
        },
        "id": "axQRuZR8FN_I",
        "outputId": "ae6dde1d-5d47-4bc3-e295-ddc518617a04"
      },
      "outputs": [
        {
          "name": "stdout",
          "output_type": "stream",
          "text": [
            "mkdir: cannot create directory ‘/root/.kaggle’: File exists\n"
          ]
        }
      ],
      "source": [
        "!mkdir ~/.kaggle"
      ]
    },
    {
      "cell_type": "code",
      "execution_count": null,
      "metadata": {
        "id": "lkRkQLs9FOCO"
      },
      "outputs": [],
      "source": [
        "!cp kaggle.json ~/.kaggle"
      ]
    },
    {
      "cell_type": "code",
      "execution_count": null,
      "metadata": {
        "colab": {
          "base_uri": "https://localhost:8080/"
        },
        "id": "5_aoKvGFFOFV",
        "outputId": "00552cd3-69da-4b43-adfd-b70df70580c9"
      },
      "outputs": [
        {
          "name": "stdout",
          "output_type": "stream",
          "text": [
            "Warning: Your Kaggle API key is readable by other users on this system! To fix this, you can run 'chmod 600 /root/.kaggle/kaggle.json'\n",
            "zomato-bangalore-restaurants.zip: Skipping, found more recently modified local copy (use --force to force download)\n"
          ]
        }
      ],
      "source": [
        "!kaggle datasets download -d HimanshuPoddar/zomato-bangalore-restaurants"
      ]
    },
    {
      "cell_type": "code",
      "execution_count": null,
      "metadata": {
        "colab": {
          "base_uri": "https://localhost:8080/"
        },
        "id": "i3dQApgmFOIq",
        "outputId": "19f7f835-7122-4ea5-c5e0-b453a1e81274"
      },
      "outputs": [
        {
          "name": "stdout",
          "output_type": "stream",
          "text": [
            "Archive:  /content/zomato-bangalore-restaurants.zip\n",
            "replace zomato.csv? [y]es, [n]o, [A]ll, [N]one, [r]ename: y\n",
            "  inflating: zomato.csv              y\n",
            "\n"
          ]
        }
      ],
      "source": [
        "!unzip /content/zomato-bangalore-restaurants.zip"
      ]
    },
    {
      "cell_type": "markdown",
      "metadata": {
        "id": "sOR07ZFDGAvu"
      },
      "source": [
        "# **Import Libraries**"
      ]
    },
    {
      "cell_type": "code",
      "execution_count": null,
      "metadata": {
        "id": "LG7c4cH8FOK6"
      },
      "outputs": [],
      "source": [
        "import numpy as np\n",
        "import pandas as pd\n",
        "import matplotlib.pyplot as plt\n",
        "import seaborn as sns"
      ]
    },
    {
      "cell_type": "code",
      "execution_count": null,
      "metadata": {
        "id": "ac9kSoldFONh"
      },
      "outputs": [],
      "source": [
        "data=pd.read_csv('/content/zomato.csv')"
      ]
    },
    {
      "cell_type": "code",
      "execution_count": null,
      "metadata": {
        "colab": {
          "background_save": true
        },
        "id": "ZS8QVnZ3FOQQ",
        "outputId": "87ec09a4-825c-424c-9467-a4eaf4e67672"
      },
      "outputs": [
        {
          "data": {
            "text/html": [
              "\n",
              "  <div id=\"df-2fffaf42-f382-4608-b30d-b9873443ad40\" class=\"colab-df-container\">\n",
              "    <div>\n",
              "<style scoped>\n",
              "    .dataframe tbody tr th:only-of-type {\n",
              "        vertical-align: middle;\n",
              "    }\n",
              "\n",
              "    .dataframe tbody tr th {\n",
              "        vertical-align: top;\n",
              "    }\n",
              "\n",
              "    .dataframe thead th {\n",
              "        text-align: right;\n",
              "    }\n",
              "</style>\n",
              "<table border=\"1\" class=\"dataframe\">\n",
              "  <thead>\n",
              "    <tr style=\"text-align: right;\">\n",
              "      <th></th>\n",
              "      <th>url</th>\n",
              "      <th>address</th>\n",
              "      <th>name</th>\n",
              "      <th>online_order</th>\n",
              "      <th>book_table</th>\n",
              "      <th>rate</th>\n",
              "      <th>votes</th>\n",
              "      <th>phone</th>\n",
              "      <th>location</th>\n",
              "      <th>rest_type</th>\n",
              "      <th>dish_liked</th>\n",
              "      <th>cuisines</th>\n",
              "      <th>approx_cost(for two people)</th>\n",
              "      <th>reviews_list</th>\n",
              "      <th>menu_item</th>\n",
              "      <th>listed_in(type)</th>\n",
              "      <th>listed_in(city)</th>\n",
              "    </tr>\n",
              "  </thead>\n",
              "  <tbody>\n",
              "    <tr>\n",
              "      <th>0</th>\n",
              "      <td>https://www.zomato.com/bangalore/jalsa-banasha...</td>\n",
              "      <td>942, 21st Main Road, 2nd Stage, Banashankari, ...</td>\n",
              "      <td>Jalsa</td>\n",
              "      <td>Yes</td>\n",
              "      <td>Yes</td>\n",
              "      <td>4.1/5</td>\n",
              "      <td>775</td>\n",
              "      <td>080 42297555\\r\\n+91 9743772233</td>\n",
              "      <td>Banashankari</td>\n",
              "      <td>Casual Dining</td>\n",
              "      <td>Pasta, Lunch Buffet, Masala Papad, Paneer Laja...</td>\n",
              "      <td>North Indian, Mughlai, Chinese</td>\n",
              "      <td>800</td>\n",
              "      <td>[('Rated 4.0', 'RATED\\n  A beautiful place to ...</td>\n",
              "      <td>[]</td>\n",
              "      <td>Buffet</td>\n",
              "      <td>Banashankari</td>\n",
              "    </tr>\n",
              "    <tr>\n",
              "      <th>1</th>\n",
              "      <td>https://www.zomato.com/bangalore/spice-elephan...</td>\n",
              "      <td>2nd Floor, 80 Feet Road, Near Big Bazaar, 6th ...</td>\n",
              "      <td>Spice Elephant</td>\n",
              "      <td>Yes</td>\n",
              "      <td>No</td>\n",
              "      <td>4.1/5</td>\n",
              "      <td>787</td>\n",
              "      <td>080 41714161</td>\n",
              "      <td>Banashankari</td>\n",
              "      <td>Casual Dining</td>\n",
              "      <td>Momos, Lunch Buffet, Chocolate Nirvana, Thai G...</td>\n",
              "      <td>Chinese, North Indian, Thai</td>\n",
              "      <td>800</td>\n",
              "      <td>[('Rated 4.0', 'RATED\\n  Had been here for din...</td>\n",
              "      <td>[]</td>\n",
              "      <td>Buffet</td>\n",
              "      <td>Banashankari</td>\n",
              "    </tr>\n",
              "    <tr>\n",
              "      <th>2</th>\n",
              "      <td>https://www.zomato.com/SanchurroBangalore?cont...</td>\n",
              "      <td>1112, Next to KIMS Medical College, 17th Cross...</td>\n",
              "      <td>San Churro Cafe</td>\n",
              "      <td>Yes</td>\n",
              "      <td>No</td>\n",
              "      <td>3.8/5</td>\n",
              "      <td>918</td>\n",
              "      <td>+91 9663487993</td>\n",
              "      <td>Banashankari</td>\n",
              "      <td>Cafe, Casual Dining</td>\n",
              "      <td>Churros, Cannelloni, Minestrone Soup, Hot Choc...</td>\n",
              "      <td>Cafe, Mexican, Italian</td>\n",
              "      <td>800</td>\n",
              "      <td>[('Rated 3.0', \"RATED\\n  Ambience is not that ...</td>\n",
              "      <td>[]</td>\n",
              "      <td>Buffet</td>\n",
              "      <td>Banashankari</td>\n",
              "    </tr>\n",
              "    <tr>\n",
              "      <th>3</th>\n",
              "      <td>https://www.zomato.com/bangalore/addhuri-udupi...</td>\n",
              "      <td>1st Floor, Annakuteera, 3rd Stage, Banashankar...</td>\n",
              "      <td>Addhuri Udupi Bhojana</td>\n",
              "      <td>No</td>\n",
              "      <td>No</td>\n",
              "      <td>3.7/5</td>\n",
              "      <td>88</td>\n",
              "      <td>+91 9620009302</td>\n",
              "      <td>Banashankari</td>\n",
              "      <td>Quick Bites</td>\n",
              "      <td>Masala Dosa</td>\n",
              "      <td>South Indian, North Indian</td>\n",
              "      <td>300</td>\n",
              "      <td>[('Rated 4.0', \"RATED\\n  Great food and proper...</td>\n",
              "      <td>[]</td>\n",
              "      <td>Buffet</td>\n",
              "      <td>Banashankari</td>\n",
              "    </tr>\n",
              "    <tr>\n",
              "      <th>4</th>\n",
              "      <td>https://www.zomato.com/bangalore/grand-village...</td>\n",
              "      <td>10, 3rd Floor, Lakshmi Associates, Gandhi Baza...</td>\n",
              "      <td>Grand Village</td>\n",
              "      <td>No</td>\n",
              "      <td>No</td>\n",
              "      <td>3.8/5</td>\n",
              "      <td>166</td>\n",
              "      <td>+91 8026612447\\r\\n+91 9901210005</td>\n",
              "      <td>Basavanagudi</td>\n",
              "      <td>Casual Dining</td>\n",
              "      <td>Panipuri, Gol Gappe</td>\n",
              "      <td>North Indian, Rajasthani</td>\n",
              "      <td>600</td>\n",
              "      <td>[('Rated 4.0', 'RATED\\n  Very good restaurant ...</td>\n",
              "      <td>[]</td>\n",
              "      <td>Buffet</td>\n",
              "      <td>Banashankari</td>\n",
              "    </tr>\n",
              "  </tbody>\n",
              "</table>\n",
              "</div>\n",
              "    <div class=\"colab-df-buttons\">\n",
              "\n",
              "  <div class=\"colab-df-container\">\n",
              "    <button class=\"colab-df-convert\" onclick=\"convertToInteractive('df-2fffaf42-f382-4608-b30d-b9873443ad40')\"\n",
              "            title=\"Convert this dataframe to an interactive table.\"\n",
              "            style=\"display:none;\">\n",
              "\n",
              "  <svg xmlns=\"http://www.w3.org/2000/svg\" height=\"24px\" viewBox=\"0 -960 960 960\">\n",
              "    <path d=\"M120-120v-720h720v720H120Zm60-500h600v-160H180v160Zm220 220h160v-160H400v160Zm0 220h160v-160H400v160ZM180-400h160v-160H180v160Zm440 0h160v-160H620v160ZM180-180h160v-160H180v160Zm440 0h160v-160H620v160Z\"/>\n",
              "  </svg>\n",
              "    </button>\n",
              "\n",
              "  <style>\n",
              "    .colab-df-container {\n",
              "      display:flex;\n",
              "      gap: 12px;\n",
              "    }\n",
              "\n",
              "    .colab-df-convert {\n",
              "      background-color: #E8F0FE;\n",
              "      border: none;\n",
              "      border-radius: 50%;\n",
              "      cursor: pointer;\n",
              "      display: none;\n",
              "      fill: #1967D2;\n",
              "      height: 32px;\n",
              "      padding: 0 0 0 0;\n",
              "      width: 32px;\n",
              "    }\n",
              "\n",
              "    .colab-df-convert:hover {\n",
              "      background-color: #E2EBFA;\n",
              "      box-shadow: 0px 1px 2px rgba(60, 64, 67, 0.3), 0px 1px 3px 1px rgba(60, 64, 67, 0.15);\n",
              "      fill: #174EA6;\n",
              "    }\n",
              "\n",
              "    .colab-df-buttons div {\n",
              "      margin-bottom: 4px;\n",
              "    }\n",
              "\n",
              "    [theme=dark] .colab-df-convert {\n",
              "      background-color: #3B4455;\n",
              "      fill: #D2E3FC;\n",
              "    }\n",
              "\n",
              "    [theme=dark] .colab-df-convert:hover {\n",
              "      background-color: #434B5C;\n",
              "      box-shadow: 0px 1px 3px 1px rgba(0, 0, 0, 0.15);\n",
              "      filter: drop-shadow(0px 1px 2px rgba(0, 0, 0, 0.3));\n",
              "      fill: #FFFFFF;\n",
              "    }\n",
              "  </style>\n",
              "\n",
              "    <script>\n",
              "      const buttonEl =\n",
              "        document.querySelector('#df-2fffaf42-f382-4608-b30d-b9873443ad40 button.colab-df-convert');\n",
              "      buttonEl.style.display =\n",
              "        google.colab.kernel.accessAllowed ? 'block' : 'none';\n",
              "\n",
              "      async function convertToInteractive(key) {\n",
              "        const element = document.querySelector('#df-2fffaf42-f382-4608-b30d-b9873443ad40');\n",
              "        const dataTable =\n",
              "          await google.colab.kernel.invokeFunction('convertToInteractive',\n",
              "                                                    [key], {});\n",
              "        if (!dataTable) return;\n",
              "\n",
              "        const docLinkHtml = 'Like what you see? Visit the ' +\n",
              "          '<a target=\"_blank\" href=https://colab.research.google.com/notebooks/data_table.ipynb>data table notebook</a>'\n",
              "          + ' to learn more about interactive tables.';\n",
              "        element.innerHTML = '';\n",
              "        dataTable['output_type'] = 'display_data';\n",
              "        await google.colab.output.renderOutput(dataTable, element);\n",
              "        const docLink = document.createElement('div');\n",
              "        docLink.innerHTML = docLinkHtml;\n",
              "        element.appendChild(docLink);\n",
              "      }\n",
              "    </script>\n",
              "  </div>\n",
              "\n",
              "\n",
              "<div id=\"df-3fb2e85d-6da5-403b-8c7a-349bfc7a1123\">\n",
              "  <button class=\"colab-df-quickchart\" onclick=\"quickchart('df-3fb2e85d-6da5-403b-8c7a-349bfc7a1123')\"\n",
              "            title=\"Suggest charts\"\n",
              "            style=\"display:none;\">\n",
              "\n",
              "<svg xmlns=\"http://www.w3.org/2000/svg\" height=\"24px\"viewBox=\"0 0 24 24\"\n",
              "     width=\"24px\">\n",
              "    <g>\n",
              "        <path d=\"M19 3H5c-1.1 0-2 .9-2 2v14c0 1.1.9 2 2 2h14c1.1 0 2-.9 2-2V5c0-1.1-.9-2-2-2zM9 17H7v-7h2v7zm4 0h-2V7h2v10zm4 0h-2v-4h2v4z\"/>\n",
              "    </g>\n",
              "</svg>\n",
              "  </button>\n",
              "\n",
              "<style>\n",
              "  .colab-df-quickchart {\n",
              "      --bg-color: #E8F0FE;\n",
              "      --fill-color: #1967D2;\n",
              "      --hover-bg-color: #E2EBFA;\n",
              "      --hover-fill-color: #174EA6;\n",
              "      --disabled-fill-color: #AAA;\n",
              "      --disabled-bg-color: #DDD;\n",
              "  }\n",
              "\n",
              "  [theme=dark] .colab-df-quickchart {\n",
              "      --bg-color: #3B4455;\n",
              "      --fill-color: #D2E3FC;\n",
              "      --hover-bg-color: #434B5C;\n",
              "      --hover-fill-color: #FFFFFF;\n",
              "      --disabled-bg-color: #3B4455;\n",
              "      --disabled-fill-color: #666;\n",
              "  }\n",
              "\n",
              "  .colab-df-quickchart {\n",
              "    background-color: var(--bg-color);\n",
              "    border: none;\n",
              "    border-radius: 50%;\n",
              "    cursor: pointer;\n",
              "    display: none;\n",
              "    fill: var(--fill-color);\n",
              "    height: 32px;\n",
              "    padding: 0;\n",
              "    width: 32px;\n",
              "  }\n",
              "\n",
              "  .colab-df-quickchart:hover {\n",
              "    background-color: var(--hover-bg-color);\n",
              "    box-shadow: 0 1px 2px rgba(60, 64, 67, 0.3), 0 1px 3px 1px rgba(60, 64, 67, 0.15);\n",
              "    fill: var(--button-hover-fill-color);\n",
              "  }\n",
              "\n",
              "  .colab-df-quickchart-complete:disabled,\n",
              "  .colab-df-quickchart-complete:disabled:hover {\n",
              "    background-color: var(--disabled-bg-color);\n",
              "    fill: var(--disabled-fill-color);\n",
              "    box-shadow: none;\n",
              "  }\n",
              "\n",
              "  .colab-df-spinner {\n",
              "    border: 2px solid var(--fill-color);\n",
              "    border-color: transparent;\n",
              "    border-bottom-color: var(--fill-color);\n",
              "    animation:\n",
              "      spin 1s steps(1) infinite;\n",
              "  }\n",
              "\n",
              "  @keyframes spin {\n",
              "    0% {\n",
              "      border-color: transparent;\n",
              "      border-bottom-color: var(--fill-color);\n",
              "      border-left-color: var(--fill-color);\n",
              "    }\n",
              "    20% {\n",
              "      border-color: transparent;\n",
              "      border-left-color: var(--fill-color);\n",
              "      border-top-color: var(--fill-color);\n",
              "    }\n",
              "    30% {\n",
              "      border-color: transparent;\n",
              "      border-left-color: var(--fill-color);\n",
              "      border-top-color: var(--fill-color);\n",
              "      border-right-color: var(--fill-color);\n",
              "    }\n",
              "    40% {\n",
              "      border-color: transparent;\n",
              "      border-right-color: var(--fill-color);\n",
              "      border-top-color: var(--fill-color);\n",
              "    }\n",
              "    60% {\n",
              "      border-color: transparent;\n",
              "      border-right-color: var(--fill-color);\n",
              "    }\n",
              "    80% {\n",
              "      border-color: transparent;\n",
              "      border-right-color: var(--fill-color);\n",
              "      border-bottom-color: var(--fill-color);\n",
              "    }\n",
              "    90% {\n",
              "      border-color: transparent;\n",
              "      border-bottom-color: var(--fill-color);\n",
              "    }\n",
              "  }\n",
              "</style>\n",
              "\n",
              "  <script>\n",
              "    async function quickchart(key) {\n",
              "      const quickchartButtonEl =\n",
              "        document.querySelector('#' + key + ' button');\n",
              "      quickchartButtonEl.disabled = true;  // To prevent multiple clicks.\n",
              "      quickchartButtonEl.classList.add('colab-df-spinner');\n",
              "      try {\n",
              "        const charts = await google.colab.kernel.invokeFunction(\n",
              "            'suggestCharts', [key], {});\n",
              "      } catch (error) {\n",
              "        console.error('Error during call to suggestCharts:', error);\n",
              "      }\n",
              "      quickchartButtonEl.classList.remove('colab-df-spinner');\n",
              "      quickchartButtonEl.classList.add('colab-df-quickchart-complete');\n",
              "    }\n",
              "    (() => {\n",
              "      let quickchartButtonEl =\n",
              "        document.querySelector('#df-3fb2e85d-6da5-403b-8c7a-349bfc7a1123 button');\n",
              "      quickchartButtonEl.style.display =\n",
              "        google.colab.kernel.accessAllowed ? 'block' : 'none';\n",
              "    })();\n",
              "  </script>\n",
              "</div>\n",
              "    </div>\n",
              "  </div>\n"
            ],
            "text/plain": [
              "                                                 url  \\\n",
              "0  https://www.zomato.com/bangalore/jalsa-banasha...   \n",
              "1  https://www.zomato.com/bangalore/spice-elephan...   \n",
              "2  https://www.zomato.com/SanchurroBangalore?cont...   \n",
              "3  https://www.zomato.com/bangalore/addhuri-udupi...   \n",
              "4  https://www.zomato.com/bangalore/grand-village...   \n",
              "\n",
              "                                             address                   name  \\\n",
              "0  942, 21st Main Road, 2nd Stage, Banashankari, ...                  Jalsa   \n",
              "1  2nd Floor, 80 Feet Road, Near Big Bazaar, 6th ...         Spice Elephant   \n",
              "2  1112, Next to KIMS Medical College, 17th Cross...        San Churro Cafe   \n",
              "3  1st Floor, Annakuteera, 3rd Stage, Banashankar...  Addhuri Udupi Bhojana   \n",
              "4  10, 3rd Floor, Lakshmi Associates, Gandhi Baza...          Grand Village   \n",
              "\n",
              "  online_order book_table   rate  votes                             phone  \\\n",
              "0          Yes        Yes  4.1/5    775    080 42297555\\r\\n+91 9743772233   \n",
              "1          Yes         No  4.1/5    787                      080 41714161   \n",
              "2          Yes         No  3.8/5    918                    +91 9663487993   \n",
              "3           No         No  3.7/5     88                    +91 9620009302   \n",
              "4           No         No  3.8/5    166  +91 8026612447\\r\\n+91 9901210005   \n",
              "\n",
              "       location            rest_type  \\\n",
              "0  Banashankari        Casual Dining   \n",
              "1  Banashankari        Casual Dining   \n",
              "2  Banashankari  Cafe, Casual Dining   \n",
              "3  Banashankari          Quick Bites   \n",
              "4  Basavanagudi        Casual Dining   \n",
              "\n",
              "                                          dish_liked  \\\n",
              "0  Pasta, Lunch Buffet, Masala Papad, Paneer Laja...   \n",
              "1  Momos, Lunch Buffet, Chocolate Nirvana, Thai G...   \n",
              "2  Churros, Cannelloni, Minestrone Soup, Hot Choc...   \n",
              "3                                        Masala Dosa   \n",
              "4                                Panipuri, Gol Gappe   \n",
              "\n",
              "                         cuisines approx_cost(for two people)  \\\n",
              "0  North Indian, Mughlai, Chinese                         800   \n",
              "1     Chinese, North Indian, Thai                         800   \n",
              "2          Cafe, Mexican, Italian                         800   \n",
              "3      South Indian, North Indian                         300   \n",
              "4        North Indian, Rajasthani                         600   \n",
              "\n",
              "                                        reviews_list menu_item  \\\n",
              "0  [('Rated 4.0', 'RATED\\n  A beautiful place to ...        []   \n",
              "1  [('Rated 4.0', 'RATED\\n  Had been here for din...        []   \n",
              "2  [('Rated 3.0', \"RATED\\n  Ambience is not that ...        []   \n",
              "3  [('Rated 4.0', \"RATED\\n  Great food and proper...        []   \n",
              "4  [('Rated 4.0', 'RATED\\n  Very good restaurant ...        []   \n",
              "\n",
              "  listed_in(type) listed_in(city)  \n",
              "0          Buffet    Banashankari  \n",
              "1          Buffet    Banashankari  \n",
              "2          Buffet    Banashankari  \n",
              "3          Buffet    Banashankari  \n",
              "4          Buffet    Banashankari  "
            ]
          },
          "execution_count": 15,
          "metadata": {},
          "output_type": "execute_result"
        }
      ],
      "source": [
        "data.head()"
      ]
    },
    {
      "cell_type": "code",
      "execution_count": null,
      "metadata": {
        "colab": {
          "background_save": true
        },
        "id": "3q_Uc5g_FOTD",
        "outputId": "49dfa511-7ba0-4ce7-e05c-b691af927c63"
      },
      "outputs": [
        {
          "name": "stdout",
          "output_type": "stream",
          "text": [
            "<class 'pandas.core.frame.DataFrame'>\n",
            "RangeIndex: 51717 entries, 0 to 51716\n",
            "Data columns (total 17 columns):\n",
            " #   Column                       Non-Null Count  Dtype \n",
            "---  ------                       --------------  ----- \n",
            " 0   url                          51717 non-null  object\n",
            " 1   address                      51717 non-null  object\n",
            " 2   name                         51717 non-null  object\n",
            " 3   online_order                 51717 non-null  object\n",
            " 4   book_table                   51717 non-null  object\n",
            " 5   rate                         43942 non-null  object\n",
            " 6   votes                        51717 non-null  int64 \n",
            " 7   phone                        50509 non-null  object\n",
            " 8   location                     51696 non-null  object\n",
            " 9   rest_type                    51490 non-null  object\n",
            " 10  dish_liked                   23639 non-null  object\n",
            " 11  cuisines                     51672 non-null  object\n",
            " 12  approx_cost(for two people)  51371 non-null  object\n",
            " 13  reviews_list                 51717 non-null  object\n",
            " 14  menu_item                    51717 non-null  object\n",
            " 15  listed_in(type)              51717 non-null  object\n",
            " 16  listed_in(city)              51717 non-null  object\n",
            "dtypes: int64(1), object(16)\n",
            "memory usage: 6.7+ MB\n"
          ]
        }
      ],
      "source": [
        "data.info()"
      ]
    },
    {
      "cell_type": "markdown",
      "metadata": {
        "id": "NEIlSXT1Gi1w"
      },
      "source": [
        "# **Data Cleaning**"
      ]
    },
    {
      "cell_type": "code",
      "execution_count": null,
      "metadata": {
        "colab": {
          "background_save": true
        },
        "id": "Zq_VIQwvFOVy",
        "outputId": "6e61dfa0-2559-4819-972c-3b3f5b476e32"
      },
      "outputs": [
        {
          "data": {
            "text/plain": [
              "url                                0\n",
              "address                            0\n",
              "name                               0\n",
              "online_order                       0\n",
              "book_table                         0\n",
              "rate                            7775\n",
              "votes                              0\n",
              "phone                           1208\n",
              "location                          21\n",
              "rest_type                        227\n",
              "dish_liked                     28078\n",
              "cuisines                          45\n",
              "approx_cost(for two people)      346\n",
              "reviews_list                       0\n",
              "menu_item                          0\n",
              "listed_in(type)                    0\n",
              "listed_in(city)                    0\n",
              "dtype: int64"
            ]
          },
          "execution_count": 17,
          "metadata": {},
          "output_type": "execute_result"
        }
      ],
      "source": [
        "data.isnull().sum()"
      ]
    },
    {
      "cell_type": "markdown",
      "metadata": {
        "id": "YPJK7sy1FOY5"
      },
      "source": [
        "* rate---------------7775\n",
        "* phone--------------1208\n",
        "* location-----------21\n",
        "* rest_type----------227\n",
        "* dish_liked---------28078\n",
        "* cuisines-----------45\n",
        "* approx_cost(for two people)---346"
      ]
    },
    {
      "cell_type": "markdown",
      "metadata": {
        "id": "Ulejs9Oln61o"
      },
      "source": [
        "**Cuisines**"
      ]
    },
    {
      "cell_type": "code",
      "execution_count": null,
      "metadata": {
        "colab": {
          "background_save": true
        },
        "id": "y9kOC2vUFObz",
        "outputId": "4144d60b-53d0-4157-941d-54ea7a05aeaa"
      },
      "outputs": [
        {
          "data": {
            "text/plain": [
              "45"
            ]
          },
          "execution_count": 18,
          "metadata": {},
          "output_type": "execute_result"
        }
      ],
      "source": [
        "data['cuisines'].isnull().sum()"
      ]
    },
    {
      "cell_type": "code",
      "execution_count": null,
      "metadata": {
        "colab": {
          "background_save": true
        },
        "id": "pL96NYq4FOen"
      },
      "outputs": [],
      "source": [
        "data.dropna(subset='cuisines',inplace=True)"
      ]
    },
    {
      "cell_type": "code",
      "execution_count": null,
      "metadata": {
        "colab": {
          "background_save": true
        },
        "id": "OH309lN7FOhU",
        "outputId": "3426c497-a2bf-4b55-e448-e35b4f0f259e"
      },
      "outputs": [
        {
          "data": {
            "text/plain": [
              "0"
            ]
          },
          "execution_count": 20,
          "metadata": {},
          "output_type": "execute_result"
        }
      ],
      "source": [
        "data['cuisines'].isnull().sum()"
      ]
    },
    {
      "cell_type": "markdown",
      "metadata": {
        "id": "pD8z_yfMmpII"
      },
      "source": [
        "**Rate** **Column**"
      ]
    },
    {
      "cell_type": "code",
      "execution_count": null,
      "metadata": {
        "colab": {
          "background_save": true
        },
        "id": "BB8CWc1AFOk6",
        "outputId": "8a4a7c11-508a-4af4-8953-9f8b71c88dfa"
      },
      "outputs": [
        {
          "data": {
            "text/plain": [
              "7741"
            ]
          },
          "execution_count": 21,
          "metadata": {},
          "output_type": "execute_result"
        }
      ],
      "source": [
        "data[\"rate\"].isnull().sum()"
      ]
    },
    {
      "cell_type": "code",
      "execution_count": null,
      "metadata": {
        "colab": {
          "background_save": true
        },
        "id": "t34N0ZhvjzJh"
      },
      "outputs": [],
      "source": [
        "data[\"Rating\"]=data[\"rate\"].str.split(\"/\").str[0]\n"
      ]
    },
    {
      "cell_type": "code",
      "execution_count": null,
      "metadata": {
        "colab": {
          "background_save": true
        },
        "id": "vcpxShwLlGHh",
        "outputId": "af22056e-68e1-4d4f-8b49-ab788e6d1937"
      },
      "outputs": [
        {
          "data": {
            "text/plain": [
              "7741"
            ]
          },
          "execution_count": 23,
          "metadata": {},
          "output_type": "execute_result"
        }
      ],
      "source": [
        "data[\"Rating\"].isnull().sum()"
      ]
    },
    {
      "cell_type": "code",
      "execution_count": null,
      "metadata": {
        "colab": {
          "background_save": true
        },
        "id": "jXAXx7GGkTjC"
      },
      "outputs": [],
      "source": [
        "data[\"Rating\"]=pd.to_numeric(data[\"Rating\"],errors='coerce')"
      ]
    },
    {
      "cell_type": "code",
      "execution_count": null,
      "metadata": {
        "colab": {
          "background_save": true
        },
        "id": "-mfYHhMqlP3t",
        "outputId": "c466f9e5-8031-4db1-d375-2f08b09b7207"
      },
      "outputs": [
        {
          "data": {
            "text/plain": [
              "10018"
            ]
          },
          "execution_count": 25,
          "metadata": {},
          "output_type": "execute_result"
        }
      ],
      "source": [
        "data.Rating.isnull().sum()"
      ]
    },
    {
      "cell_type": "code",
      "execution_count": null,
      "metadata": {
        "colab": {
          "background_save": true
        },
        "id": "unrDCLrFl9-g"
      },
      "outputs": [],
      "source": [
        "data[\"Rating\"].fillna(data.Rating.mean().round(1),inplace = True)"
      ]
    },
    {
      "cell_type": "code",
      "execution_count": null,
      "metadata": {
        "colab": {
          "background_save": true
        },
        "id": "b2wwqFSq0Osb",
        "outputId": "0d1a7055-f679-4bfa-af72-62cdc2d27aa6"
      },
      "outputs": [
        {
          "data": {
            "text/plain": [
              "0        4.1\n",
              "1        4.1\n",
              "2        3.8\n",
              "3        3.7\n",
              "4        3.8\n",
              "        ... \n",
              "51712    3.6\n",
              "51713    3.7\n",
              "51714    3.7\n",
              "51715    4.3\n",
              "51716    3.4\n",
              "Name: Rating, Length: 51672, dtype: float64"
            ]
          },
          "execution_count": 27,
          "metadata": {},
          "output_type": "execute_result"
        }
      ],
      "source": [
        "data['Rating']"
      ]
    },
    {
      "cell_type": "code",
      "execution_count": null,
      "metadata": {
        "colab": {
          "background_save": true
        },
        "id": "l5VHx4x3mKvA",
        "outputId": "6181ab98-2caa-4c2d-8dd4-ce2963f5ef8c"
      },
      "outputs": [
        {
          "data": {
            "text/plain": [
              "0"
            ]
          },
          "execution_count": 28,
          "metadata": {},
          "output_type": "execute_result"
        }
      ],
      "source": [
        "data.Rating.isnull().sum()"
      ]
    },
    {
      "cell_type": "code",
      "execution_count": null,
      "metadata": {
        "colab": {
          "background_save": true
        },
        "id": "BRUuSLPSmv-p"
      },
      "outputs": [],
      "source": [
        "data.drop('rate',axis=1,inplace=True)"
      ]
    },
    {
      "cell_type": "code",
      "execution_count": null,
      "metadata": {
        "colab": {
          "background_save": true
        },
        "id": "LxBEYPyinJfY",
        "outputId": "9b358620-a177-4a3c-a072-ebae35f71674"
      },
      "outputs": [
        {
          "name": "stdout",
          "output_type": "stream",
          "text": [
            "<class 'pandas.core.frame.DataFrame'>\n",
            "Int64Index: 51672 entries, 0 to 51716\n",
            "Data columns (total 17 columns):\n",
            " #   Column                       Non-Null Count  Dtype  \n",
            "---  ------                       --------------  -----  \n",
            " 0   url                          51672 non-null  object \n",
            " 1   address                      51672 non-null  object \n",
            " 2   name                         51672 non-null  object \n",
            " 3   online_order                 51672 non-null  object \n",
            " 4   book_table                   51672 non-null  object \n",
            " 5   votes                        51672 non-null  int64  \n",
            " 6   phone                        50493 non-null  object \n",
            " 7   location                     51672 non-null  object \n",
            " 8   rest_type                    51466 non-null  object \n",
            " 9   dish_liked                   23639 non-null  object \n",
            " 10  cuisines                     51672 non-null  object \n",
            " 11  approx_cost(for two people)  51352 non-null  object \n",
            " 12  reviews_list                 51672 non-null  object \n",
            " 13  menu_item                    51672 non-null  object \n",
            " 14  listed_in(type)              51672 non-null  object \n",
            " 15  listed_in(city)              51672 non-null  object \n",
            " 16  Rating                       51672 non-null  float64\n",
            "dtypes: float64(1), int64(1), object(15)\n",
            "memory usage: 7.1+ MB\n"
          ]
        }
      ],
      "source": [
        "data.info()"
      ]
    },
    {
      "cell_type": "markdown",
      "metadata": {
        "id": "J1Ia9Y2qndSv"
      },
      "source": [
        "**Phone Column**"
      ]
    },
    {
      "cell_type": "code",
      "execution_count": null,
      "metadata": {
        "colab": {
          "background_save": true
        },
        "id": "Y5KxlIUVmSVt",
        "outputId": "5d2384bd-59d1-4f84-de23-6a96f1d52f1d"
      },
      "outputs": [
        {
          "data": {
            "text/plain": [
              "1179"
            ]
          },
          "execution_count": 31,
          "metadata": {},
          "output_type": "execute_result"
        }
      ],
      "source": [
        "data.phone.isnull().sum()"
      ]
    },
    {
      "cell_type": "code",
      "execution_count": null,
      "metadata": {
        "colab": {
          "background_save": true
        },
        "id": "zyQWHfZKmaan"
      },
      "outputs": [],
      "source": [
        "data.phone.fillna(\"XXXXXXXXXX\",inplace=True)"
      ]
    },
    {
      "cell_type": "code",
      "execution_count": null,
      "metadata": {
        "colab": {
          "background_save": true
        },
        "id": "GH4YdYM5mjgD",
        "outputId": "2a9c908a-a353-4b05-fe23-42769f679c75"
      },
      "outputs": [
        {
          "data": {
            "text/plain": [
              "0"
            ]
          },
          "execution_count": 33,
          "metadata": {},
          "output_type": "execute_result"
        }
      ],
      "source": [
        "data.phone.isnull().sum()"
      ]
    },
    {
      "cell_type": "markdown",
      "metadata": {
        "id": "aAO2uGjInl6c"
      },
      "source": [
        "Drop null values in Location"
      ]
    },
    {
      "cell_type": "code",
      "execution_count": null,
      "metadata": {
        "id": "b6zIEKhnmm6e"
      },
      "outputs": [],
      "source": [
        "data.location.isnull().sum()"
      ]
    },
    {
      "cell_type": "markdown",
      "metadata": {
        "id": "icB0LBnRoC12"
      },
      "source": [
        "**rest_type----------227**"
      ]
    },
    {
      "cell_type": "code",
      "execution_count": null,
      "metadata": {
        "id": "iKblJ660oErg"
      },
      "outputs": [],
      "source": [
        "data.rest_type.isnull().sum()"
      ]
    },
    {
      "cell_type": "code",
      "execution_count": null,
      "metadata": {
        "id": "aaFdqvT5oFa0"
      },
      "outputs": [],
      "source": [
        "data.dropna(subset=[\"rest_type\"],inplace=True)"
      ]
    },
    {
      "cell_type": "markdown",
      "metadata": {
        "id": "42x9SygZpJw3"
      },
      "source": [
        "approx_cost(for two people)---346"
      ]
    },
    {
      "cell_type": "markdown",
      "metadata": {
        "id": "oCpRxfciokJ4"
      },
      "source": [
        "Cost"
      ]
    },
    {
      "cell_type": "code",
      "execution_count": null,
      "metadata": {
        "id": "3diqyAw4ojMN"
      },
      "outputs": [],
      "source": [
        "data.rename(columns={\"approx_cost(for two people)\": \"Cost\"}, inplace=True)"
      ]
    },
    {
      "cell_type": "code",
      "execution_count": null,
      "metadata": {
        "id": "qRzosE67o0-q"
      },
      "outputs": [],
      "source": [
        "data.Cost.isnull().sum()"
      ]
    },
    {
      "cell_type": "code",
      "execution_count": null,
      "metadata": {
        "id": "OVF1-ULvpNhy"
      },
      "outputs": [],
      "source": [
        "data['Cost'] = pd.to_numeric(data['Cost'].str.replace(',', ''), errors='coerce').fillna(data['Cost'].mode().iloc[0])"
      ]
    },
    {
      "cell_type": "code",
      "execution_count": null,
      "metadata": {
        "id": "DUzScFOMrBt1"
      },
      "outputs": [],
      "source": [
        "data.Cost=data.Cost.astype(int)"
      ]
    },
    {
      "cell_type": "code",
      "execution_count": null,
      "metadata": {
        "id": "oXkTj0yxr3-m"
      },
      "outputs": [],
      "source": [
        "data.Cost.head(1)"
      ]
    },
    {
      "cell_type": "code",
      "execution_count": null,
      "metadata": {
        "id": "h-JNJkHmsDr9"
      },
      "outputs": [],
      "source": [
        "data.drop('dish_liked',axis=1,inplace=True)"
      ]
    },
    {
      "cell_type": "code",
      "execution_count": null,
      "metadata": {
        "id": "jHBEHPwW6-mK"
      },
      "outputs": [],
      "source": [
        "data.drop('menu_item',axis=1,inplace=True)"
      ]
    },
    {
      "cell_type": "code",
      "execution_count": null,
      "metadata": {
        "id": "7PiFatiksNF-"
      },
      "outputs": [],
      "source": [
        "data.isnull().sum()"
      ]
    },
    {
      "cell_type": "code",
      "execution_count": null,
      "metadata": {
        "id": "eGBz5N45npwO"
      },
      "outputs": [],
      "source": [
        "data.info()"
      ]
    },
    {
      "cell_type": "markdown",
      "metadata": {
        "id": "Eve5ItpBsT-W"
      },
      "source": [
        "**Duplicates Checking**"
      ]
    },
    {
      "cell_type": "code",
      "execution_count": null,
      "metadata": {
        "id": "VP_KWGDUsTYe"
      },
      "outputs": [],
      "source": [
        "data.duplicated().sum()"
      ]
    },
    {
      "cell_type": "markdown",
      "metadata": {
        "id": "XZ9UbUGhwM4G"
      },
      "source": [
        "Important columns:\n",
        "\n",
        "\n",
        "1.   rest_type\n",
        "2.   Cuisines\n",
        "3.   reviews_list\n",
        "\n"
      ]
    },
    {
      "cell_type": "markdown",
      "metadata": {
        "id": "dvg9KthZshzF"
      },
      "source": [
        "# Preprocessing"
      ]
    },
    {
      "cell_type": "code",
      "execution_count": null,
      "metadata": {
        "id": "WQ0ozUPz2iOm"
      },
      "outputs": [],
      "source": [
        "from sklearn.preprocessing import MinMaxScaler\n",
        "data['Mean Rating'] = data.groupby('name')['Rating'].transform('mean').round(2)\n",
        "scaler = MinMaxScaler(feature_range=(1, 5))\n",
        "data['Mean Rating'] = scaler.fit_transform(data[['Mean Rating']]).round(2)"
      ]
    },
    {
      "cell_type": "code",
      "execution_count": null,
      "metadata": {
        "id": "5vt34Zhf0jH8"
      },
      "outputs": [],
      "source": [
        "data.head()"
      ]
    },
    {
      "cell_type": "code",
      "execution_count": null,
      "metadata": {
        "id": "VJKSKBuBozKx"
      },
      "outputs": [],
      "source": [
        "data_unique = data.drop_duplicates(subset=['name', 'location'], keep='first')"
      ]
    },
    {
      "cell_type": "code",
      "execution_count": null,
      "metadata": {
        "id": "YUlt1u8cw2sC"
      },
      "outputs": [],
      "source": [
        "data_unique.shape"
      ]
    },
    {
      "cell_type": "code",
      "execution_count": null,
      "metadata": {
        "id": "wg6YnLPSshTX"
      },
      "outputs": [],
      "source": [
        "data_unique.reviews_list=data_unique.reviews_list.str.lower()"
      ]
    },
    {
      "cell_type": "code",
      "execution_count": null,
      "metadata": {
        "id": "cLxhByP12lRd"
      },
      "outputs": [],
      "source": [
        "#Remove puntuations\n",
        "import string\n",
        "punc_to_remove=string.punctuation\n",
        "def remove_punctuation(text):\n",
        "  return text.translate(str.maketrans('', '', punc_to_remove))\n",
        "data_unique[\"reviews_list\"] = data_unique[\"reviews_list\"].apply(lambda text: remove_punctuation(text))"
      ]
    },
    {
      "cell_type": "code",
      "execution_count": null,
      "metadata": {
        "id": "0P1x0_5WCcB4"
      },
      "outputs": [],
      "source": [
        "# import pandas as pd\n",
        "\n",
        "# # Assuming data_unique is your DataFrame\n",
        "# # Replace 'rest_type' with the actual column name in your DataFrame\n",
        "# t = data_unique['rest_type'].str.split(',').explode().unique().tolist()\n"
      ]
    },
    {
      "cell_type": "code",
      "execution_count": null,
      "metadata": {
        "id": "TsnvLUiA4Dug"
      },
      "outputs": [],
      "source": [
        "data_unique.reviews_list[0]"
      ]
    },
    {
      "cell_type": "code",
      "execution_count": null,
      "metadata": {
        "id": "6h--v6sY-DpR"
      },
      "outputs": [],
      "source": [
        "df=data_unique[data_unique['votes']>50]"
      ]
    },
    {
      "cell_type": "code",
      "execution_count": null,
      "metadata": {
        "id": "u42liYNv-ltI"
      },
      "outputs": [],
      "source": [
        "df.shape"
      ]
    },
    {
      "cell_type": "code",
      "execution_count": null,
      "metadata": {
        "id": "qUSu-ECw6uyb"
      },
      "outputs": [],
      "source": [
        "df.isnull().sum()"
      ]
    },
    {
      "cell_type": "markdown",
      "metadata": {
        "id": "l8Qus9eGNbh4"
      },
      "source": [
        "# **Data Visualization**"
      ]
    },
    {
      "cell_type": "code",
      "execution_count": null,
      "metadata": {
        "id": "yzEGXsCCNl3W"
      },
      "outputs": [],
      "source": [
        "labels = [\"Banashankari\", \"Bannerghatta Road\", \"Basavanagudi\", \"Bellandur\", \"Brigade Road\", \"Brookefield\", \"BTM\",\n",
        "          \"Church Street\", \"Electronic City\", \"Frazer Town\", \"HSR\", \"Indiranagar\", \"Jayanagar\", \"JP Nagar\",\n",
        "          \"Kalyan Nagar\", \"Kammanahalli\", \"Koramangala 4th Block\", \"Koramangala 5th Block\", \"Koramangala 6th Block\",\n",
        "          \"Koramangala 7th Block\", \"Lavelle Road\", \"Malleshwaram\", \"Marathahalli\", \"MG Road\", \"New BEL Road\",\n",
        "          \"Old Airport Road\", \"Rajajinagar\", \"Residency Road\", \"Sarjapur Road\", \"Whitefield\"]\n",
        "\n",
        "y = [900, 1630, 685, 1290, 1220, 660, 580, 1260, 730, 2530, 2100, 1930, 2240, 850, 650, 1020, 2500, 1150, 1180, 620,\n",
        "     840, 2045, 935, 690, 445, 600, 680, 1070, 2400, 2100]\n",
        "\n",
        "fig, axes1 = plt.subplots(figsize=(10, 10))\n",
        "colors = plt.cm.tab20c.colors\n",
        "\n",
        "axes1.pie(y, labels=labels, autopct=\"%0.2f%%\", colors=colors, shadow=True, startangle=90)\n",
        "\n",
        "axes1.axis(\"equal\")\n",
        "axes1.set_title('Distribution of Restaurants in Different Locations')\n",
        "\n",
        "plt.show()\n"
      ]
    },
    {
      "cell_type": "code",
      "execution_count": null,
      "metadata": {
        "id": "YjN6aoo2G7pG"
      },
      "outputs": [],
      "source": [
        " x = np.array([\"Banashankari\",\"Bannerghatta Road\",\"Basavanagudi\",\"'Bellandur\",\"Brigade Road\", \"Brookefield\", \"BTM\", \"Church Street\",\n",
        "              \"Electronic City\", \"Frazer Town\", \"HSR\", \"Indiranagar\", \"Jayanagar\",\"JP Nagar\", \"Kalyan Nagar\", \"Kammanahalli\",\n",
        "              \"Koramangala 4th Block\", \"Koramangala 5th Block\",\"Koramangala 6th Block\",\"Koramangala 7th Block\",\"Lavelle Road\",\"Malleshwaram\",\n",
        "              \"Marathahalli\", \"MG Road\", \"New BEL Road\", \"Old Airport Road\", \"Rajajinagar\", \"Residency Road\", \"Sarjapur Road\",\"Whitefield\"])\n",
        "y = np.array([900, 1630, 685, 1290, 1220, 660, 580, 1260, 730, 2530, 2100, 1930, 2240, 850, 650, 1020, 2500, 1150, 1180, 620, 840, 2045, 935, 690, 445, 600, 680, 1070, 2400, 2100])\n",
        "plt.barh(x,y)"
      ]
    },
    {
      "cell_type": "code",
      "execution_count": null,
      "metadata": {
        "id": "kZwYjDpp5IHf"
      },
      "outputs": [],
      "source": [
        "# Histogram for Cleaned Ratings\n",
        "plt.figure(figsize=(10, 6))\n",
        "sns.histplot(df['Rating'], bins=20, kde=True, color='skyblue')\n",
        "plt.title('Histogram of Cleaned Ratings')\n",
        "plt.xlabel('Cleaned Rating')\n",
        "plt.ylabel('Frequency')\n",
        "plt.show()"
      ]
    },
    {
      "cell_type": "code",
      "execution_count": null,
      "metadata": {
        "id": "aK7rMaP75ZPY"
      },
      "outputs": [],
      "source": [
        "# Count plot for Restaurant Types\n",
        "plt.figure(figsize=(12, 6))\n",
        "sns.countplot(x='rest_type', data=df, order=df['rest_type'].value_counts().index)\n",
        "plt.title('Count of Restaurants by Type')\n",
        "plt.xlabel('Restaurant Type')\n",
        "plt.ylabel('Count')\n",
        "plt.xticks(rotation=90, ha='right')\n",
        "plt.show()\n"
      ]
    },
    {
      "cell_type": "code",
      "execution_count": null,
      "metadata": {
        "colab": {
          "background_save": true
        },
        "id": "7Fj9zbYk5hPa",
        "outputId": "e8fa1319-f449-4f85-8756-2c90ece7b0a5"
      },
      "outputs": [
        {
          "data": {
            "image/png": "[encoded data removed]",
            "text/plain": [
              "<Figure size 750x750 with 12 Axes>"
            ]
          },
          "metadata": {},
          "output_type": "display_data"
        }
      ],
      "source": [
        "# Pairplot\n",
        "sns.pairplot(df[['votes', 'Rating', 'Cost']])\n",
        "plt.suptitle('Pairplot of Votes, Cleaned Rating, and Approx Cost')\n",
        "plt.show()"
      ]
    },
    {
      "cell_type": "code",
      "execution_count": null,
      "metadata": {
        "colab": {
          "background_save": true
        },
        "id": "z0pM4nBG5ID-",
        "outputId": "08133058-42d1-411b-941b-0051cae091ac"
      },
      "outputs": [
        {
          "data": {
            "image/png": "[encoded data removed]",
            "text/plain": [
              "<Figure size 800x500 with 1 Axes>"
            ]
          },
          "metadata": {},
          "output_type": "display_data"
        }
      ],
      "source": [
        "# Bar plot for Online Order\n",
        "plt.figure(figsize=(8, 5))\n",
        "sns.countplot(x='online_order', data=df)\n",
        "plt.title('Count of Restaurants with Online Order Option')\n",
        "plt.xlabel('Online Order')\n",
        "plt.ylabel('Count')\n",
        "plt.show()"
      ]
    },
    {
      "cell_type": "code",
      "execution_count": null,
      "metadata": {
        "colab": {
          "background_save": true
        },
        "id": "z9OhDUsL5IBX",
        "outputId": "c42d6e60-bcd2-413a-c27c-3d590def21ee"
      },
      "outputs": [
        {
          "data": {
            "text/plain": [
              "Text(0, 0.5, 'Cleaned Rating')"
            ]
          },
          "execution_count": 64,
          "metadata": {},
          "output_type": "execute_result"
        },
        {
          "data": {
            "image/png": "[encoded data removed]",
            "text/plain": [
              "<Figure size 1200x800 with 1 Axes>"
            ]
          },
          "metadata": {},
          "output_type": "display_data"
        }
      ],
      "source": [
        "# Scatter plot with color representation of 'approx_cost(for two people)'\n",
        "plt.figure(figsize=(12, 8))\n",
        "scatter = sns.scatterplot(x='votes', y='Rating', hue='Cost', size='Cost', sizes=(20, 200), data=df, alpha=0.7)\n",
        "plt.title('Scatter plot of Votes vs. Cleaned Rating with Cost Representation')\n",
        "plt.xlabel('Votes')\n",
        "plt.ylabel('Cleaned Rating')"
      ]
    },
    {
      "cell_type": "code",
      "execution_count": null,
      "metadata": {
        "colab": {
          "background_save": true
        },
        "id": "hDKIXwgj5H-4",
        "outputId": "f8b17c0b-0bf6-40cb-88b1-b3d894ac6d03"
      },
      "outputs": [
        {
          "data": {
            "image/png": "[encoded data removed]",
            "text/plain": [
              "<Figure size 1200x600 with 1 Axes>"
            ]
          },
          "metadata": {},
          "output_type": "display_data"
        }
      ],
      "source": [
        "# Bar graph for Top 10 Locations\n",
        "plt.figure(figsize=(12, 6))\n",
        "top_locations = df['location'].value_counts().nlargest(10)\n",
        "sns.barplot(x=top_locations, y=top_locations.index, palette='viridis')\n",
        "plt.title('Top 10 Locations with the Most Restaurants')\n",
        "plt.xlabel('Number of Restaurants')\n",
        "plt.ylabel('Location')\n",
        "plt.show()"
      ]
    },
    {
      "cell_type": "code",
      "execution_count": null,
      "metadata": {
        "colab": {
          "background_save": true
        },
        "id": "_ArUw4C75H8H",
        "outputId": "43f24aa4-0a7a-44db-d2b3-0ea8c5ae396b"
      },
      "outputs": [
        {
          "data": {
            "image/png": "[encoded data removed]",
            "text/plain": [
              "<Figure size 1200x600 with 1 Axes>"
            ]
          },
          "metadata": {},
          "output_type": "display_data"
        }
      ],
      "source": [
        "# Bar graph for Top 10 Restaurants based on Votes\n",
        "plt.figure(figsize=(12, 6))\n",
        "top_restaurants = df.groupby('name')['votes'].sum().nlargest(10)\n",
        "sns.barplot(x=top_restaurants.values, y=top_restaurants.index, palette='muted')\n",
        "plt.title('Top 10 Restaurants with the Most Votes')\n",
        "plt.xlabel('Total Votes')\n",
        "plt.ylabel('Restaurant Name')\n",
        "plt.show()\n"
      ]
    },
    {
      "cell_type": "markdown",
      "metadata": {
        "id": "Z92256SgNgIn"
      },
      "source": [
        "# **Model** **Building**"
      ]
    },
    {
      "cell_type": "code",
      "execution_count": null,
      "metadata": {
        "colab": {
          "background_save": true
        },
        "id": "37JUGcNJId7_",
        "outputId": "70d28fed-666a-41d8-b1e6-49e7cbecf273"
      },
      "outputs": [
        {
          "name": "stderr",
          "output_type": "stream",
          "text": [
            "<ipython-input-67-e9ca9d35c4f5>:1: SettingWithCopyWarning: \n",
            "A value is trying to be set on a copy of a slice from a DataFrame.\n",
            "Try using .loc[row_indexer,col_indexer] = value instead\n",
            "\n",
            "See the caveats in the documentation: https://pandas.pydata.org/pandas-docs/stable/user_guide/indexing.html#returning-a-view-versus-a-copy\n",
            "  df['tags'] = df['rest_type']+df['cuisines']+df['reviews_list']\n"
          ]
        }
      ],
      "source": [
        "df['tags'] = df['rest_type']+df['cuisines']+df['reviews_list']"
      ]
    },
    {
      "cell_type": "code",
      "execution_count": null,
      "metadata": {
        "colab": {
          "background_save": true
        },
        "id": "AwGQmUdXhn-E"
      },
      "outputs": [],
      "source": [
        "filtered_res=df[['name','location','address','online_order','book_table','phone','rest_type','Cost','Rating','Mean Rating','tags']].reset_index(drop=True)"
      ]
    },
    {
      "cell_type": "code",
      "execution_count": null,
      "metadata": {
        "colab": {
          "background_save": true
        },
        "id": "zcKFVZzk-OUS",
        "outputId": "00641be2-3961-4f0d-bdbd-6df7bfc38619"
      },
      "outputs": [
        {
          "data": {
            "text/plain": [
              "0             Casual Dining\n",
              "1             Casual Dining\n",
              "2       Cafe, Casual Dining\n",
              "3               Quick Bites\n",
              "4             Casual Dining\n",
              "               ...         \n",
              "4620          Casual Dining\n",
              "4621                    Bar\n",
              "4622          Casual Dining\n",
              "4623             Food Court\n",
              "4624     Casual Dining, Bar\n",
              "Name: rest_type, Length: 4625, dtype: object"
            ]
          },
          "execution_count": 69,
          "metadata": {},
          "output_type": "execute_result"
        }
      ],
      "source": [
        "filtered_res.rest_type"
      ]
    },
    {
      "cell_type": "code",
      "execution_count": null,
      "metadata": {
        "colab": {
          "background_save": true
        },
        "id": "Wq-8MnCliAiw",
        "outputId": "e8a9983c-7f60-469a-9d1d-35d7ca80c397"
      },
      "outputs": [
        {
          "data": {
            "text/plain": [
              "(4625, 11)"
            ]
          },
          "execution_count": 70,
          "metadata": {},
          "output_type": "execute_result"
        }
      ],
      "source": [
        "filtered_res.shape"
      ]
    },
    {
      "cell_type": "code",
      "execution_count": null,
      "metadata": {
        "colab": {
          "background_save": true
        },
        "id": "sLDc20EBm4zN"
      },
      "outputs": [],
      "source": [
        "filtered_res['name']=filtered_res['name'].str.lower()"
      ]
    },
    {
      "cell_type": "code",
      "execution_count": null,
      "metadata": {
        "colab": {
          "background_save": true
        },
        "id": "3-P561lodcu1",
        "outputId": "024cab34-b3ac-47b3-fbc3-0d2e8ef52681"
      },
      "outputs": [
        {
          "data": {
            "text/html": [
              "\n",
              "  <div id=\"df-f52cc3d4-adc1-479d-ab09-3a0231213035\" class=\"colab-df-container\">\n",
              "    <div>\n",
              "<style scoped>\n",
              "    .dataframe tbody tr th:only-of-type {\n",
              "        vertical-align: middle;\n",
              "    }\n",
              "\n",
              "    .dataframe tbody tr th {\n",
              "        vertical-align: top;\n",
              "    }\n",
              "\n",
              "    .dataframe thead th {\n",
              "        text-align: right;\n",
              "    }\n",
              "</style>\n",
              "<table border=\"1\" class=\"dataframe\">\n",
              "  <thead>\n",
              "    <tr style=\"text-align: right;\">\n",
              "      <th></th>\n",
              "      <th>name</th>\n",
              "      <th>location</th>\n",
              "      <th>address</th>\n",
              "      <th>online_order</th>\n",
              "      <th>book_table</th>\n",
              "      <th>phone</th>\n",
              "      <th>rest_type</th>\n",
              "      <th>Cost</th>\n",
              "      <th>Rating</th>\n",
              "      <th>Mean Rating</th>\n",
              "      <th>tags</th>\n",
              "    </tr>\n",
              "  </thead>\n",
              "  <tbody>\n",
              "    <tr>\n",
              "      <th>0</th>\n",
              "      <td>jalsa</td>\n",
              "      <td>Banashankari</td>\n",
              "      <td>942, 21st Main Road, 2nd Stage, Banashankari, ...</td>\n",
              "      <td>Yes</td>\n",
              "      <td>Yes</td>\n",
              "      <td>080 42297555\\r\\n+91 9743772233</td>\n",
              "      <td>Casual Dining</td>\n",
              "      <td>800</td>\n",
              "      <td>4.1</td>\n",
              "      <td>3.99</td>\n",
              "      <td>Casual DiningNorth Indian, Mughlai, Chineserat...</td>\n",
              "    </tr>\n",
              "    <tr>\n",
              "      <th>1</th>\n",
              "      <td>spice elephant</td>\n",
              "      <td>Banashankari</td>\n",
              "      <td>2nd Floor, 80 Feet Road, Near Big Bazaar, 6th ...</td>\n",
              "      <td>Yes</td>\n",
              "      <td>No</td>\n",
              "      <td>080 41714161</td>\n",
              "      <td>Casual Dining</td>\n",
              "      <td>800</td>\n",
              "      <td>4.1</td>\n",
              "      <td>3.97</td>\n",
              "      <td>Casual DiningChinese, North Indian, Thairated ...</td>\n",
              "    </tr>\n",
              "    <tr>\n",
              "      <th>2</th>\n",
              "      <td>san churro cafe</td>\n",
              "      <td>Banashankari</td>\n",
              "      <td>1112, Next to KIMS Medical College, 17th Cross...</td>\n",
              "      <td>Yes</td>\n",
              "      <td>No</td>\n",
              "      <td>+91 9663487993</td>\n",
              "      <td>Cafe, Casual Dining</td>\n",
              "      <td>800</td>\n",
              "      <td>3.8</td>\n",
              "      <td>3.58</td>\n",
              "      <td>Cafe, Casual DiningCafe, Mexican, Italianrated...</td>\n",
              "    </tr>\n",
              "    <tr>\n",
              "      <th>3</th>\n",
              "      <td>addhuri udupi bhojana</td>\n",
              "      <td>Banashankari</td>\n",
              "      <td>1st Floor, Annakuteera, 3rd Stage, Banashankar...</td>\n",
              "      <td>No</td>\n",
              "      <td>No</td>\n",
              "      <td>+91 9620009302</td>\n",
              "      <td>Quick Bites</td>\n",
              "      <td>300</td>\n",
              "      <td>3.7</td>\n",
              "      <td>3.45</td>\n",
              "      <td>Quick BitesSouth Indian, North Indianrated 40 ...</td>\n",
              "    </tr>\n",
              "    <tr>\n",
              "      <th>4</th>\n",
              "      <td>grand village</td>\n",
              "      <td>Basavanagudi</td>\n",
              "      <td>10, 3rd Floor, Lakshmi Associates, Gandhi Baza...</td>\n",
              "      <td>No</td>\n",
              "      <td>No</td>\n",
              "      <td>+91 8026612447\\r\\n+91 9901210005</td>\n",
              "      <td>Casual Dining</td>\n",
              "      <td>600</td>\n",
              "      <td>3.8</td>\n",
              "      <td>3.58</td>\n",
              "      <td>Casual DiningNorth Indian, Rajasthanirated 40 ...</td>\n",
              "    </tr>\n",
              "    <tr>\n",
              "      <th>...</th>\n",
              "      <td>...</td>\n",
              "      <td>...</td>\n",
              "      <td>...</td>\n",
              "      <td>...</td>\n",
              "      <td>...</td>\n",
              "      <td>...</td>\n",
              "      <td>...</td>\n",
              "      <td>...</td>\n",
              "      <td>...</td>\n",
              "      <td>...</td>\n",
              "      <td>...</td>\n",
              "    </tr>\n",
              "    <tr>\n",
              "      <th>4620</th>\n",
              "      <td>chianti</td>\n",
              "      <td>ITPL Main Road, Whitefield</td>\n",
              "      <td>1, Ground Floor, Ascendas Park Square Mall, Wh...</td>\n",
              "      <td>No</td>\n",
              "      <td>Yes</td>\n",
              "      <td>+91 8061224716\\n+91 8061224717</td>\n",
              "      <td>Casual Dining</td>\n",
              "      <td>1500</td>\n",
              "      <td>4.6</td>\n",
              "      <td>4.59</td>\n",
              "      <td>Casual DiningItalianrated 40 ratedn  had visit...</td>\n",
              "    </tr>\n",
              "    <tr>\n",
              "      <th>4621</th>\n",
              "      <td>chime - sheraton grand bengaluru whitefield ho...</td>\n",
              "      <td>ITPL Main Road, Whitefield</td>\n",
              "      <td>Sheraton Grand Bengaluru Whitefield Hotel &amp; Co...</td>\n",
              "      <td>No</td>\n",
              "      <td>Yes</td>\n",
              "      <td>080 49652769</td>\n",
              "      <td>Bar</td>\n",
              "      <td>2500</td>\n",
              "      <td>4.3</td>\n",
              "      <td>4.23</td>\n",
              "      <td>BarFinger Foodrated 40 ratedn  nice and friend...</td>\n",
              "    </tr>\n",
              "    <tr>\n",
              "      <th>4622</th>\n",
              "      <td>chung wah</td>\n",
              "      <td>ITPL Main Road, Whitefield</td>\n",
              "      <td>Unit 04-01, 4th floor, Ascendas Park Square Ma...</td>\n",
              "      <td>No</td>\n",
              "      <td>No</td>\n",
              "      <td>+91 9535948061</td>\n",
              "      <td>Casual Dining</td>\n",
              "      <td>800</td>\n",
              "      <td>2.5</td>\n",
              "      <td>3.52</td>\n",
              "      <td>Casual DiningChinese, Momosrated 10 ratedn  fo...</td>\n",
              "    </tr>\n",
              "    <tr>\n",
              "      <th>4623</th>\n",
              "      <td>fujian express</td>\n",
              "      <td>ITPL Main Road, Whitefield</td>\n",
              "      <td>Food Court, Ascendas Park Square Mall, Whitefi...</td>\n",
              "      <td>Yes</td>\n",
              "      <td>No</td>\n",
              "      <td>+91 7760075458\\n+91 9591852291</td>\n",
              "      <td>Food Court</td>\n",
              "      <td>600</td>\n",
              "      <td>3.8</td>\n",
              "      <td>3.14</td>\n",
              "      <td>Food CourtThai, Chinese, Momosrated 40 ratedn ...</td>\n",
              "    </tr>\n",
              "    <tr>\n",
              "      <th>4624</th>\n",
              "      <td>bhagini</td>\n",
              "      <td>Whitefield</td>\n",
              "      <td>139/C1, Next To GR Tech Park, Pattandur Agraha...</td>\n",
              "      <td>No</td>\n",
              "      <td>No</td>\n",
              "      <td>080 65951222</td>\n",
              "      <td>Casual Dining, Bar</td>\n",
              "      <td>800</td>\n",
              "      <td>2.5</td>\n",
              "      <td>1.62</td>\n",
              "      <td>Casual Dining, BarAndhra, South Indian, Chines...</td>\n",
              "    </tr>\n",
              "  </tbody>\n",
              "</table>\n",
              "<p>4625 rows × 11 columns</p>\n",
              "</div>\n",
              "    <div class=\"colab-df-buttons\">\n",
              "\n",
              "  <div class=\"colab-df-container\">\n",
              "    <button class=\"colab-df-convert\" onclick=\"convertToInteractive('df-f52cc3d4-adc1-479d-ab09-3a0231213035')\"\n",
              "            title=\"Convert this dataframe to an interactive table.\"\n",
              "            style=\"display:none;\">\n",
              "\n",
              "  <svg xmlns=\"http://www.w3.org/2000/svg\" height=\"24px\" viewBox=\"0 -960 960 960\">\n",
              "    <path d=\"M120-120v-720h720v720H120Zm60-500h600v-160H180v160Zm220 220h160v-160H400v160Zm0 220h160v-160H400v160ZM180-400h160v-160H180v160Zm440 0h160v-160H620v160ZM180-180h160v-160H180v160Zm440 0h160v-160H620v160Z\"/>\n",
              "  </svg>\n",
              "    </button>\n",
              "\n",
              "  <style>\n",
              "    .colab-df-container {\n",
              "      display:flex;\n",
              "      gap: 12px;\n",
              "    }\n",
              "\n",
              "    .colab-df-convert {\n",
              "      background-color: #E8F0FE;\n",
              "      border: none;\n",
              "      border-radius: 50%;\n",
              "      cursor: pointer;\n",
              "      display: none;\n",
              "      fill: #1967D2;\n",
              "      height: 32px;\n",
              "      padding: 0 0 0 0;\n",
              "      width: 32px;\n",
              "    }\n",
              "\n",
              "    .colab-df-convert:hover {\n",
              "      background-color: #E2EBFA;\n",
              "      box-shadow: 0px 1px 2px rgba(60, 64, 67, 0.3), 0px 1px 3px 1px rgba(60, 64, 67, 0.15);\n",
              "      fill: #174EA6;\n",
              "    }\n",
              "\n",
              "    .colab-df-buttons div {\n",
              "      margin-bottom: 4px;\n",
              "    }\n",
              "\n",
              "    [theme=dark] .colab-df-convert {\n",
              "      background-color: #3B4455;\n",
              "      fill: #D2E3FC;\n",
              "    }\n",
              "\n",
              "    [theme=dark] .colab-df-convert:hover {\n",
              "      background-color: #434B5C;\n",
              "      box-shadow: 0px 1px 3px 1px rgba(0, 0, 0, 0.15);\n",
              "      filter: drop-shadow(0px 1px 2px rgba(0, 0, 0, 0.3));\n",
              "      fill: #FFFFFF;\n",
              "    }\n",
              "  </style>\n",
              "\n",
              "    <script>\n",
              "      const buttonEl =\n",
              "        document.querySelector('#df-f52cc3d4-adc1-479d-ab09-3a0231213035 button.colab-df-convert');\n",
              "      buttonEl.style.display =\n",
              "        google.colab.kernel.accessAllowed ? 'block' : 'none';\n",
              "\n",
              "      async function convertToInteractive(key) {\n",
              "        const element = document.querySelector('#df-f52cc3d4-adc1-479d-ab09-3a0231213035');\n",
              "        const dataTable =\n",
              "          await google.colab.kernel.invokeFunction('convertToInteractive',\n",
              "                                                    [key], {});\n",
              "        if (!dataTable) return;\n",
              "\n",
              "        const docLinkHtml = 'Like what you see? Visit the ' +\n",
              "          '<a target=\"_blank\" href=https://colab.research.google.com/notebooks/data_table.ipynb>data table notebook</a>'\n",
              "          + ' to learn more about interactive tables.';\n",
              "        element.innerHTML = '';\n",
              "        dataTable['output_type'] = 'display_data';\n",
              "        await google.colab.output.renderOutput(dataTable, element);\n",
              "        const docLink = document.createElement('div');\n",
              "        docLink.innerHTML = docLinkHtml;\n",
              "        element.appendChild(docLink);\n",
              "      }\n",
              "    </script>\n",
              "  </div>\n",
              "\n",
              "\n",
              "<div id=\"df-e73e2879-6a7a-4af0-9d04-1a4b59d1a7ad\">\n",
              "  <button class=\"colab-df-quickchart\" onclick=\"quickchart('df-e73e2879-6a7a-4af0-9d04-1a4b59d1a7ad')\"\n",
              "            title=\"Suggest charts\"\n",
              "            style=\"display:none;\">\n",
              "\n",
              "<svg xmlns=\"http://www.w3.org/2000/svg\" height=\"24px\"viewBox=\"0 0 24 24\"\n",
              "     width=\"24px\">\n",
              "    <g>\n",
              "        <path d=\"M19 3H5c-1.1 0-2 .9-2 2v14c0 1.1.9 2 2 2h14c1.1 0 2-.9 2-2V5c0-1.1-.9-2-2-2zM9 17H7v-7h2v7zm4 0h-2V7h2v10zm4 0h-2v-4h2v4z\"/>\n",
              "    </g>\n",
              "</svg>\n",
              "  </button>\n",
              "\n",
              "<style>\n",
              "  .colab-df-quickchart {\n",
              "      --bg-color: #E8F0FE;\n",
              "      --fill-color: #1967D2;\n",
              "      --hover-bg-color: #E2EBFA;\n",
              "      --hover-fill-color: #174EA6;\n",
              "      --disabled-fill-color: #AAA;\n",
              "      --disabled-bg-color: #DDD;\n",
              "  }\n",
              "\n",
              "  [theme=dark] .colab-df-quickchart {\n",
              "      --bg-color: #3B4455;\n",
              "      --fill-color: #D2E3FC;\n",
              "      --hover-bg-color: #434B5C;\n",
              "      --hover-fill-color: #FFFFFF;\n",
              "      --disabled-bg-color: #3B4455;\n",
              "      --disabled-fill-color: #666;\n",
              "  }\n",
              "\n",
              "  .colab-df-quickchart {\n",
              "    background-color: var(--bg-color);\n",
              "    border: none;\n",
              "    border-radius: 50%;\n",
              "    cursor: pointer;\n",
              "    display: none;\n",
              "    fill: var(--fill-color);\n",
              "    height: 32px;\n",
              "    padding: 0;\n",
              "    width: 32px;\n",
              "  }\n",
              "\n",
              "  .colab-df-quickchart:hover {\n",
              "    background-color: var(--hover-bg-color);\n",
              "    box-shadow: 0 1px 2px rgba(60, 64, 67, 0.3), 0 1px 3px 1px rgba(60, 64, 67, 0.15);\n",
              "    fill: var(--button-hover-fill-color);\n",
              "  }\n",
              "\n",
              "  .colab-df-quickchart-complete:disabled,\n",
              "  .colab-df-quickchart-complete:disabled:hover {\n",
              "    background-color: var(--disabled-bg-color);\n",
              "    fill: var(--disabled-fill-color);\n",
              "    box-shadow: none;\n",
              "  }\n",
              "\n",
              "  .colab-df-spinner {\n",
              "    border: 2px solid var(--fill-color);\n",
              "    border-color: transparent;\n",
              "    border-bottom-color: var(--fill-color);\n",
              "    animation:\n",
              "      spin 1s steps(1) infinite;\n",
              "  }\n",
              "\n",
              "  @keyframes spin {\n",
              "    0% {\n",
              "      border-color: transparent;\n",
              "      border-bottom-color: var(--fill-color);\n",
              "      border-left-color: var(--fill-color);\n",
              "    }\n",
              "    20% {\n",
              "      border-color: transparent;\n",
              "      border-left-color: var(--fill-color);\n",
              "      border-top-color: var(--fill-color);\n",
              "    }\n",
              "    30% {\n",
              "      border-color: transparent;\n",
              "      border-left-color: var(--fill-color);\n",
              "      border-top-color: var(--fill-color);\n",
              "      border-right-color: var(--fill-color);\n",
              "    }\n",
              "    40% {\n",
              "      border-color: transparent;\n",
              "      border-right-color: var(--fill-color);\n",
              "      border-top-color: var(--fill-color);\n",
              "    }\n",
              "    60% {\n",
              "      border-color: transparent;\n",
              "      border-right-color: var(--fill-color);\n",
              "    }\n",
              "    80% {\n",
              "      border-color: transparent;\n",
              "      border-right-color: var(--fill-color);\n",
              "      border-bottom-color: var(--fill-color);\n",
              "    }\n",
              "    90% {\n",
              "      border-color: transparent;\n",
              "      border-bottom-color: var(--fill-color);\n",
              "    }\n",
              "  }\n",
              "</style>\n",
              "\n",
              "  <script>\n",
              "    async function quickchart(key) {\n",
              "      const quickchartButtonEl =\n",
              "        document.querySelector('#' + key + ' button');\n",
              "      quickchartButtonEl.disabled = true;  // To prevent multiple clicks.\n",
              "      quickchartButtonEl.classList.add('colab-df-spinner');\n",
              "      try {\n",
              "        const charts = await google.colab.kernel.invokeFunction(\n",
              "            'suggestCharts', [key], {});\n",
              "      } catch (error) {\n",
              "        console.error('Error during call to suggestCharts:', error);\n",
              "      }\n",
              "      quickchartButtonEl.classList.remove('colab-df-spinner');\n",
              "      quickchartButtonEl.classList.add('colab-df-quickchart-complete');\n",
              "    }\n",
              "    (() => {\n",
              "      let quickchartButtonEl =\n",
              "        document.querySelector('#df-e73e2879-6a7a-4af0-9d04-1a4b59d1a7ad button');\n",
              "      quickchartButtonEl.style.display =\n",
              "        google.colab.kernel.accessAllowed ? 'block' : 'none';\n",
              "    })();\n",
              "  </script>\n",
              "</div>\n",
              "    </div>\n",
              "  </div>\n"
            ],
            "text/plain": [
              "                                                   name  \\\n",
              "0                                                 jalsa   \n",
              "1                                        spice elephant   \n",
              "2                                       san churro cafe   \n",
              "3                                 addhuri udupi bhojana   \n",
              "4                                         grand village   \n",
              "...                                                 ...   \n",
              "4620                                            chianti   \n",
              "4621  chime - sheraton grand bengaluru whitefield ho...   \n",
              "4622                                          chung wah   \n",
              "4623                                     fujian express   \n",
              "4624                                            bhagini   \n",
              "\n",
              "                        location  \\\n",
              "0                   Banashankari   \n",
              "1                   Banashankari   \n",
              "2                   Banashankari   \n",
              "3                   Banashankari   \n",
              "4                   Basavanagudi   \n",
              "...                          ...   \n",
              "4620  ITPL Main Road, Whitefield   \n",
              "4621  ITPL Main Road, Whitefield   \n",
              "4622  ITPL Main Road, Whitefield   \n",
              "4623  ITPL Main Road, Whitefield   \n",
              "4624                  Whitefield   \n",
              "\n",
              "                                                address online_order  \\\n",
              "0     942, 21st Main Road, 2nd Stage, Banashankari, ...          Yes   \n",
              "1     2nd Floor, 80 Feet Road, Near Big Bazaar, 6th ...          Yes   \n",
              "2     1112, Next to KIMS Medical College, 17th Cross...          Yes   \n",
              "3     1st Floor, Annakuteera, 3rd Stage, Banashankar...           No   \n",
              "4     10, 3rd Floor, Lakshmi Associates, Gandhi Baza...           No   \n",
              "...                                                 ...          ...   \n",
              "4620  1, Ground Floor, Ascendas Park Square Mall, Wh...           No   \n",
              "4621  Sheraton Grand Bengaluru Whitefield Hotel & Co...           No   \n",
              "4622  Unit 04-01, 4th floor, Ascendas Park Square Ma...           No   \n",
              "4623  Food Court, Ascendas Park Square Mall, Whitefi...          Yes   \n",
              "4624  139/C1, Next To GR Tech Park, Pattandur Agraha...           No   \n",
              "\n",
              "     book_table                             phone            rest_type  Cost  \\\n",
              "0           Yes    080 42297555\\r\\n+91 9743772233        Casual Dining   800   \n",
              "1            No                      080 41714161        Casual Dining   800   \n",
              "2            No                    +91 9663487993  Cafe, Casual Dining   800   \n",
              "3            No                    +91 9620009302          Quick Bites   300   \n",
              "4            No  +91 8026612447\\r\\n+91 9901210005        Casual Dining   600   \n",
              "...         ...                               ...                  ...   ...   \n",
              "4620        Yes    +91 8061224716\\n+91 8061224717        Casual Dining  1500   \n",
              "4621        Yes                      080 49652769                  Bar  2500   \n",
              "4622         No                    +91 9535948061        Casual Dining   800   \n",
              "4623         No    +91 7760075458\\n+91 9591852291           Food Court   600   \n",
              "4624         No                      080 65951222   Casual Dining, Bar   800   \n",
              "\n",
              "      Rating  Mean Rating                                               tags  \n",
              "0        4.1         3.99  Casual DiningNorth Indian, Mughlai, Chineserat...  \n",
              "1        4.1         3.97  Casual DiningChinese, North Indian, Thairated ...  \n",
              "2        3.8         3.58  Cafe, Casual DiningCafe, Mexican, Italianrated...  \n",
              "3        3.7         3.45  Quick BitesSouth Indian, North Indianrated 40 ...  \n",
              "4        3.8         3.58  Casual DiningNorth Indian, Rajasthanirated 40 ...  \n",
              "...      ...          ...                                                ...  \n",
              "4620     4.6         4.59  Casual DiningItalianrated 40 ratedn  had visit...  \n",
              "4621     4.3         4.23  BarFinger Foodrated 40 ratedn  nice and friend...  \n",
              "4622     2.5         3.52  Casual DiningChinese, Momosrated 10 ratedn  fo...  \n",
              "4623     3.8         3.14  Food CourtThai, Chinese, Momosrated 40 ratedn ...  \n",
              "4624     2.5         1.62  Casual Dining, BarAndhra, South Indian, Chines...  \n",
              "\n",
              "[4625 rows x 11 columns]"
            ]
          },
          "execution_count": 72,
          "metadata": {},
          "output_type": "execute_result"
        }
      ],
      "source": [
        "filtered_res"
      ]
    },
    {
      "cell_type": "code",
      "execution_count": null,
      "metadata": {
        "colab": {
          "background_save": true
        },
        "id": "TovQZl_Uh5xq",
        "outputId": "136ca214-6952-4eed-ee0e-eebf5a299b18"
      },
      "outputs": [
        {
          "data": {
            "text/plain": [
              "0"
            ]
          },
          "execution_count": 73,
          "metadata": {},
          "output_type": "execute_result"
        }
      ],
      "source": [
        "filtered_res.duplicated().sum()"
      ]
    },
    {
      "cell_type": "code",
      "execution_count": null,
      "metadata": {
        "colab": {
          "background_save": true
        },
        "id": "j4lp6akpN3pe",
        "outputId": "5bc5c256-d44c-4b74-a793-a0e6162abee3"
      },
      "outputs": [
        {
          "data": {
            "application/vnd.google.colaboratory.intrinsic+json": {
              "type": "string"
            },
            "text/plain": [
              "'Casual DiningNorth Indian, Mughlai, Chineserated 40 ratedn  a beautiful place to dine inthe interiors take you back to the mughal era the lightings are just perfectwe went there on the occasion of christmas and so they had only limited items available but the taste and service was not compromised at allthe only complaint is that the breads could have been betterwould surely like to come here again rated 40 ratedn  i was here for dinner with my family on a weekday the restaurant was completely empty ambience is good with some good old hindi music seating arrangement are good too we ordered masala papad panner and baby corn starters lemon and corrionder soup butter roti olive and chilli paratha food was fresh and good service is good too good for family hangoutncheers rated 20 ratedn  its a restaurant near to banashankari bda me along with few of my office friends visited to have buffet but unfortunately they only provide veg buffet on inquiring they said this place is mostly visited by vegetarians anyways we ordered ala carte items which took ages to come food was ok ok definitely not visiting anymore rated 40 ratedn  we went here on a weekend and one of us had the buffet while two of us took ala carte firstly the ambience and service of this place is great the buffet had a lot of items and the good was good we had a pumpkin halwa intm the dessert which was amazing must try the kulchas are great here cheers rated 50 ratedn  the best thing about the place is itã\\x83x83ã\\x82x83ã\\x83x82ã\\x82x82ã\\x83x83ã\\x82x82ã\\x83x82ã\\x82x92s ambiance second best thing was yummy  food we try buffet and buffet food was not disappointed usntest      nquality  nservice staff was very professional and friendlynnoverall experience was excellentnnsubirmajumder85wixsitecom rated 50 ratedn  great food and pleasant ambience expensive but coll place to chill and relaxnnservice is really very very good and friendly staffnnfood  55nservice  55nambience 55noverall 55 rated 40 ratedn  good ambience with tasty foodncheese chilli paratha with bhutta palak methi curry is a good combonlemon chicken in the starters is a must try itemnegg fried rice was also quite tastynin the mocktails recommend alice in junoon do not miss it rated 40 ratedn  you canã\\x83x83ã\\x82x83ã\\x83x82ã\\x82x82ã\\x83x83ã\\x82x82ã\\x83x82ã\\x82x92t go wrong with jalsa never been a fan of their buffet and thus always order alacarteã\\x83x83ã\\x82x83ã\\x83x82ã\\x82x82ã\\x83x83ã\\x82x82ã\\x83x82ã\\x82x92 service at times can be on the slower side but food is worth the wait rated 50 ratedn  overdelighted by the service and food provided at this place a royal and ethnic atmosphere builds a strong essence of being in india and also the quality and taste of food is truly authentic i would totally recommend to visit this place once rated 40 ratedn  the place is nice and comfortable food wise all jalea outlets maintain a good standard the soya chaap was a standout dish clearly one of trademark dish as per me and a must trynnthe only concern is the parking it very congested and limited to just 5cars the basement parking is very steep and makes it cumbersome rated 40 ratedn  the place is nice and comfortable food wise all jalea outlets maintain a good standard the soya chaap was a standout dish clearly one of trademark dish as per me and a must trynnthe only concern is the parking it very congested and limited to just 5cars the basement parking is very steep and makes it cumbersome rated 40 ratedn  the place is nice and comfortable food wise all jalea outlets maintain a good standard the soya chaap was a standout dish clearly one of trademark dish as per me and a must trynnthe only concern is the parking it very congested and limited to just 5cars the basement parking is very steep and makes it cumbersome'"
            ]
          },
          "execution_count": 74,
          "metadata": {},
          "output_type": "execute_result"
        }
      ],
      "source": [
        "filtered_res['tags'][0]"
      ]
    },
    {
      "cell_type": "code",
      "execution_count": null,
      "metadata": {
        "colab": {
          "background_save": true
        },
        "id": "t-93hcP3NZPP"
      },
      "outputs": [],
      "source": [
        "import nltk\n",
        "from sklearn.feature_extraction.text import CountVectorizer"
      ]
    },
    {
      "cell_type": "code",
      "execution_count": null,
      "metadata": {
        "colab": {
          "background_save": true
        },
        "id": "CM5hKJtZ73dg",
        "outputId": "145b5230-b2b4-4ad7-dfd1-032c153d4bdc"
      },
      "outputs": [
        {
          "name": "stderr",
          "output_type": "stream",
          "text": [
            "[nltk_data] Downloading package stopwords to /root/nltk_data...\n",
            "[nltk_data]   Unzipping corpora/stopwords.zip.\n"
          ]
        },
        {
          "data": {
            "text/plain": [
              "True"
            ]
          },
          "execution_count": 76,
          "metadata": {},
          "output_type": "execute_result"
        }
      ],
      "source": [
        "nltk.download('stopwords')"
      ]
    },
    {
      "cell_type": "code",
      "execution_count": null,
      "metadata": {
        "colab": {
          "background_save": true
        },
        "id": "w8fH_usfbPeR"
      },
      "outputs": [],
      "source": [
        "from nltk.stem.porter import PorterStemmer\n",
        "ps=PorterStemmer()"
      ]
    },
    {
      "cell_type": "code",
      "execution_count": null,
      "metadata": {
        "colab": {
          "background_save": true
        },
        "id": "A405kijP7_jN"
      },
      "outputs": [],
      "source": [
        "def stem(text):\n",
        "  y=[]\n",
        "  for i in text.split():\n",
        "    y.append(ps.stem(i))\n",
        "  return \" \".join(y)"
      ]
    },
    {
      "cell_type": "code",
      "execution_count": null,
      "metadata": {
        "id": "n-WTh4ty9Jsc"
      },
      "outputs": [],
      "source": [
        "filtered_res['tags']=filtered_res['tags'].apply(stem)"
      ]
    },
    {
      "cell_type": "code",
      "execution_count": null,
      "metadata": {
        "id": "D9Fh3mK0-7Cn"
      },
      "outputs": [],
      "source": [
        "filtered_res['tags'][0]"
      ]
    },
    {
      "cell_type": "code",
      "execution_count": null,
      "metadata": {
        "id": "IyTfRbAcPAeV"
      },
      "outputs": [],
      "source": [
        "cv=CountVectorizer(max_features=10000,stop_words='english')"
      ]
    },
    {
      "cell_type": "code",
      "execution_count": null,
      "metadata": {
        "id": "E7GOae_jPPvn"
      },
      "outputs": [],
      "source": [
        "vector = cv.fit_transform(filtered_res['tags']).toarray()"
      ]
    },
    {
      "cell_type": "code",
      "execution_count": null,
      "metadata": {
        "id": "s-dw7C6PX0tA"
      },
      "outputs": [],
      "source": [
        "cv.get_feature_names_out()"
      ]
    },
    {
      "cell_type": "code",
      "execution_count": null,
      "metadata": {
        "id": "rUJ0hxIHP0jJ"
      },
      "outputs": [],
      "source": [
        "from sklearn.metrics.pairwise import cosine_similarity"
      ]
    },
    {
      "cell_type": "code",
      "execution_count": null,
      "metadata": {
        "id": "97ikhQE7QKJO"
      },
      "outputs": [],
      "source": [
        "similarity = cosine_similarity(vector)"
      ]
    },
    {
      "cell_type": "code",
      "execution_count": null,
      "metadata": {
        "id": "88Dd54c2bfwn"
      },
      "outputs": [],
      "source": [
        "similarity"
      ]
    },
    {
      "cell_type": "code",
      "execution_count": null,
      "metadata": {
        "id": "jfEXVVvZPnxN"
      },
      "outputs": [],
      "source": [
        "similarity.shape"
      ]
    },
    {
      "cell_type": "code",
      "execution_count": null,
      "metadata": {
        "id": "tAvgoTMEaD6K"
      },
      "outputs": [],
      "source": [
        "filtered_res_out=filtered_res[['name','location','address','online_order','book_table','phone','rest_type','Cost','Rating','Mean Rating']].reset_index(drop=True)"
      ]
    },
    {
      "cell_type": "code",
      "execution_count": null,
      "metadata": {
        "id": "8zEcmg9beuAO"
      },
      "outputs": [],
      "source": [
        "filtered_res_out[\"name\"]=filtered_res_out[\"name\"].apply(lambda text: remove_punctuation(text))\n",
        "filtered_res_out[\"name\"]=filtered_res_out[\"name\"].str.replace(' ', '')"
      ]
    },
    {
      "cell_type": "code",
      "execution_count": null,
      "metadata": {
        "id": "Dw8A_0Xng-Yz"
      },
      "outputs": [],
      "source": [
        "filtered_res_out"
      ]
    },
    {
      "cell_type": "code",
      "execution_count": null,
      "metadata": {
        "id": "oxbzuSFHVdhN"
      },
      "outputs": [],
      "source": [
        "filtered_res_out.rest_type = filtered_res_out.rest_type.apply(lambda text: remove_punctuation(text))"
      ]
    },
    {
      "cell_type": "code",
      "execution_count": null,
      "metadata": {
        "id": "rSnrYVEQV2wn"
      },
      "outputs": [],
      "source": [
        "filtered_res_out.rest_type"
      ]
    },
    {
      "cell_type": "code",
      "execution_count": null,
      "metadata": {
        "id": "3VZ-wKZkYc09"
      },
      "outputs": [],
      "source": [
        "output=filtered_res[['name','location','Rating','Cost','rest_type','book_table','online_order','phone','address']]"
      ]
    },
    {
      "cell_type": "code",
      "execution_count": null,
      "metadata": {
        "id": "O6kGKbQ2P_RG"
      },
      "outputs": [],
      "source": [
        "output"
      ]
    },
    {
      "cell_type": "code",
      "execution_count": null,
      "metadata": {
        "id": "FvUGS9FVOgvm"
      },
      "outputs": [],
      "source": [
        "popularity_output=filtered_res[['name','location','Rating','Mean Rating','Cost','rest_type','book_table','online_order','phone','address']]"
      ]
    },
    {
      "cell_type": "code",
      "execution_count": null,
      "metadata": {
        "id": "6OmyGxS8f1eY"
      },
      "outputs": [],
      "source": [
        "#location\n",
        "popularity = popularity_output[popularity_output['Rating'] > 4].sort_values(by='Mean Rating', ascending=False).reset_index(drop=True)\n",
        "# popularity.drop('Mean ',axis=1,inplace=True)"
      ]
    },
    {
      "cell_type": "code",
      "execution_count": null,
      "metadata": {
        "id": "CmnVUtIbdDia"
      },
      "outputs": [],
      "source": []
    },
    {
      "cell_type": "code",
      "execution_count": null,
      "metadata": {
        "id": "TzOcrGgVJjIM"
      },
      "outputs": [],
      "source": [
        "def recommend_main(res,loc,res_type):\n",
        "  punc_to_remove = string.punctuation\n",
        "  res = res.translate(str.maketrans('', '', punc_to_remove))\n",
        "  res = res.replace(' ', '')\n",
        "  res=res.lower()\n",
        "  if res!='all' and res not in filtered_res_out['name'].unique():\n",
        "    res_output = pd.DataFrame()\n",
        "    return res_output #print(\"Data Not Available\")\n",
        "  elif(loc=='all' and res_type=='all'):\n",
        "    res_output = pd.DataFrame()\n",
        "    matching_res=filtered_res_out[filtered_res_out['name']==res]\n",
        "    if not matching_res.empty:\n",
        "      index = matching_res.index[0:]\n",
        "      if len(index)>1:\n",
        "        print(f\"{len(index)} {res} restaurants is available in different location\")\n",
        "        for i in range(len(index)):\n",
        "          location=filtered_res['location'][index[i]]\n",
        "          print(f\"{res} at {location}\")\n",
        "          distance=sorted(list(enumerate(similarity[index[i]])),reverse=True,key=lambda x:x[1])\n",
        "          print()\n",
        "          for i in distance[0:6]:\n",
        "            temp_df = output.iloc[i[0]]\n",
        "            temp_res = pd.DataFrame({\n",
        "                'name': [temp_df['name']],\n",
        "                'location': [location],\n",
        "                'rating': [temp_df['Rating']],\n",
        "                'cost': [temp_df['Cost']],\n",
        "                'rest_type': [temp_df['rest_type']],\n",
        "                'book_table': [temp_df['book_table']],\n",
        "                'online_order': [temp_df['online_order']],\n",
        "                'phone': [temp_df['phone']],\n",
        "                'address': [temp_df['address']]\n",
        "                })\n",
        "            res_output = pd.concat([res_output, temp_res], ignore_index=True)\n",
        "        return res_output\n",
        "      else:\n",
        "        distance=sorted(list(enumerate(similarity[index])),reverse=True,key=lambda x:x[1])\n",
        "        for i in distance[0:6]:\n",
        "          temp_df = output.iloc[i[0]]\n",
        "          temp_res = pd.DataFrame({\n",
        "              'name': [temp_df['name']],\n",
        "              'location': [location],\n",
        "              'rating': [temp_df['Rating']],\n",
        "              'cost': [temp_df['Cost']],\n",
        "              'rest_type': [temp_df['rest_type']],\n",
        "              'book_table': [temp_df['book_table']],\n",
        "              'online_order': [temp_df['online_order']],\n",
        "              'phone': [temp_df['phone']],\n",
        "              'address': [temp_df['address']]\n",
        "              })\n",
        "          res_output = pd.concat([res_output, temp_res], ignore_index=True)\n",
        "        return res_output\n",
        "  elif(res=='all' and res_type=='all'):\n",
        "    res_output = pd.DataFrame()\n",
        "    top5=popularity[popularity['location']==loc][:6]\n",
        "    # for i in range(len(top5)):\n",
        "    #   print(top5.iloc[i])\n",
        "    #   print()\n",
        "    for i in range(len(top5)):\n",
        "      temp_df = top5.iloc[i]\n",
        "      temp_res = pd.DataFrame({\n",
        "          'name': [temp_df['name']],\n",
        "          'location': [temp_df['location']],\n",
        "          'rating': [temp_df['Rating']],\n",
        "          'cost': [temp_df['Cost']],\n",
        "          'rest_type': [temp_df['rest_type']],\n",
        "          'book_table': [temp_df['book_table']],\n",
        "          'online_order': [temp_df['online_order']],\n",
        "          'phone': [temp_df['phone']],\n",
        "          'address': [temp_df['address']]\n",
        "          })\n",
        "      res_output = pd.concat([res_output, temp_res], ignore_index=True)\n",
        "    return res_output\n",
        "  elif(res !='all' and res_type == 'all'):\n",
        "    res_output = pd.DataFrame()\n",
        "    detail=popularity[(popularity['location'] == loc) & (popularity['name'] == res)]\n",
        "    # print(detail.iloc[0, 0:])\n",
        "    # print()\n",
        "    # print(\"Related_restaurants\")\n",
        "    # print()\n",
        "    # # res_output=detail\n",
        "    temp=detail.iloc[0, 0:]\n",
        "    det_tem=pd.DataFrame({\n",
        "              'name': [temp['name']],\n",
        "              'location': [temp['location']],\n",
        "              'rating': [temp['Rating']],\n",
        "              'cost': [temp['Cost']],\n",
        "              'rest_type': [temp['rest_type']],\n",
        "              'book_table': [temp['book_table']],\n",
        "              'online_order': [temp['online_order']],\n",
        "              'phone': [temp['phone']],\n",
        "              'address': [temp['address']]\n",
        "              })\n",
        "    res_output = pd.concat([res_output, det_tem], ignore_index=True)\n",
        "    matching_res=filtered_res_out[(filtered_res_out['location'] == loc) & (filtered_res_out['name'] == res)]\n",
        "    if not matching_res.empty:\n",
        "      index = matching_res.index[0]\n",
        "      distance=sorted(list(enumerate(similarity[index])),reverse=True,key=lambda x:x[1])\n",
        "      # for i in distance[1:6]:\n",
        "      #   print()\n",
        "      #   print(output.iloc[i[0]])\n",
        "      for i in distance[1:6]:\n",
        "        temp_df = output.iloc[i[0]]\n",
        "        temp_res = pd.DataFrame({\n",
        "            'name': [temp_df['name']],\n",
        "            'location': [temp_df['location']],\n",
        "            'rating': [temp_df['Rating']],\n",
        "            'cost': [temp_df['Cost']],\n",
        "            'rest_type': [temp_df['rest_type']],\n",
        "            'book_table': [temp_df['book_table']],\n",
        "            'online_order': [temp_df['online_order']],\n",
        "            'phone': [temp_df['phone']],\n",
        "            'address': [temp_df['address']]\n",
        "            })\n",
        "        res_output = pd.concat([res_output, temp_res], ignore_index=True)\n",
        "      return res_output\n",
        "    else:\n",
        "      return 0                                                     # 1 means return nothing there no res in the location\n",
        "  elif(res == 'all' and loc != 'all' and res_type!='all'):\n",
        "    res_output = pd.DataFrame()\n",
        "    res_loc_det=popularity[(popularity['location'] == loc) & (popularity['rest_type'].isin([res_type]))]\n",
        "    if not res_loc_det.empty:\n",
        "        for i in range(0,len(res_loc_det)):\n",
        "            temp_df = res_loc_det.iloc[i]\n",
        "            temp_res = pd.DataFrame({\n",
        "                'name': [temp_df['name']],\n",
        "                'location': [temp_df['location']],\n",
        "                'rating': [temp_df['Rating']],\n",
        "                'cost': [temp_df['Cost']],\n",
        "                'rest_type': [temp_df['rest_type']],\n",
        "                'book_table': [temp_df['book_table']],\n",
        "                'online_order': [temp_df['online_order']],\n",
        "                'phone': [temp_df['phone']],\n",
        "                'address': [temp_df['address']]\n",
        "                })\n",
        "            res_output = pd.concat([res_output, temp_res], ignore_index=True)\n",
        "        return res_output\n",
        "    else:\n",
        "        top5=popularity[popularity['location']==loc][:10]\n",
        "        for i in range(len(top5)):\n",
        "            temp_df = top5.iloc[i]\n",
        "            temp_res = pd.DataFrame({\n",
        "                'name': [temp_df['name']],\n",
        "                'location': [temp_df['location']],\n",
        "                'rating': [temp_df['Rating']],\n",
        "                'cost': [temp_df['Cost']],\n",
        "                'rest_type': [temp_df['rest_type']],\n",
        "                'book_table': [temp_df['book_table']],\n",
        "                'online_order': [temp_df['online_order']],\n",
        "                'phone': [temp_df['phone']],\n",
        "                'address': [temp_df['address']]\n",
        "                })\n",
        "            res_output = pd.concat([res_output, temp_res], ignore_index=True)\n",
        "        return res_output\n",
        "  else:\n",
        "    print(\"invalid Input\")"
      ]
    },
    {
      "cell_type": "code",
      "execution_count": null,
      "metadata": {
        "id": "CwwYpFC33uQC"
      },
      "outputs": [],
      "source": [
        "recommend_main('the hidden home', 'all', 'all')"
      ]
    },
    {
      "cell_type": "code",
      "execution_count": null,
      "metadata": {
        "id": "i1SP04N_rxta"
      },
      "outputs": [],
      "source": [
        "recommend_main('Jalsa', 'all', 'all')"
      ]
    },
    {
      "cell_type": "code",
      "execution_count": null,
      "metadata": {
        "id": "yI3rZsQ5JukQ"
      },
      "outputs": [],
      "source": [
        "recommend_main('jalsa', 'Marathahalli', 'all')"
      ]
    },
    {
      "cell_type": "code",
      "execution_count": null,
      "metadata": {
        "id": "7-3Ug3rnFcgj"
      },
      "outputs": [],
      "source": [
        "res=recommend_main('all','Marathahalli','Casual Dining')"
      ]
    },
    {
      "cell_type": "code",
      "execution_count": null,
      "metadata": {
        "id": "noBROOp13rOZ"
      },
      "outputs": [],
      "source": []
    },
    {
      "cell_type": "code",
      "execution_count": null,
      "metadata": {
        "id": "N3KgUC_sqm2s"
      },
      "outputs": [],
      "source": [
        "recommend_main('all', 'Marathahalli', 'all')"
      ]
    },
    {
      "cell_type": "code",
      "execution_count": null,
      "metadata": {
        "id": "OE8hljTPNkrc"
      },
      "outputs": [],
      "source": [
        "recommend_main('jalsa','all','all')"
      ]
    },
    {
      "cell_type": "code",
      "execution_count": null,
      "metadata": {
        "id": "RJ7KB6C3K-V4"
      },
      "outputs": [],
      "source": [
        "recommend_main('all','HSR','Bar')"
      ]
    },
    {
      "cell_type": "code",
      "execution_count": null,
      "metadata": {
        "id": "64hgdX1_IR0H"
      },
      "outputs": [],
      "source": [
        "import pickle"
      ]
    },
    {
      "cell_type": "code",
      "execution_count": null,
      "metadata": {
        "id": "_0dPhfvrIu_H"
      },
      "outputs": [],
      "source": [
        "pickle.dump(filtered_res,open('filtered_res.pkl','wb'))\n",
        "pickle.dump(similarity,open('similarity.pkl','wb'))\n",
        "pickle.dump(popularity,open('popularity.pkl','wb'))\n",
        "pickle.dump(output,open('output.pkl','wb'))"
      ]
    },
    {
      "cell_type": "code",
      "execution_count": null,
      "metadata": {
        "id": "5xlB5gZEIuq5"
      },
      "outputs": [],
      "source": [
        "pickle.dump(recommend_main,open('recommend_main.pkl','wb'))"
      ]
    },
    {
      "cell_type": "code",
      "execution_count": null,
      "metadata": {
        "id": "Fawbi1YTkFlC"
      },
      "outputs": [],
      "source": [
        "pickle.dump(filtered_res_out,open('filtered_res_out.pkl','wb'))"
      ]
    }
  ],
  "metadata": {
    "accelerator": "GPU",
    "colab": {
      "provenance": []
    },
    "kernelspec": {
      "display_name": "Python 3",
      "name": "python3"
    },
    "language_info": {
      "name": "python"
    }
  },
  "nbformat": 4,
  "nbformat_minor": 0
}